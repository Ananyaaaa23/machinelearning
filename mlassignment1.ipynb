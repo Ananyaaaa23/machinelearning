{
  "nbformat": 4,
  "nbformat_minor": 0,
  "metadata": {
    "colab": {
      "provenance": [],
      "authorship_tag": "ABX9TyMOSwKIVbDmASNolrjg2q4A",
      "include_colab_link": true
    },
    "kernelspec": {
      "name": "python3",
      "display_name": "Python 3"
    },
    "language_info": {
      "name": "python"
    }
  },
  "cells": [
    {
      "cell_type": "markdown",
      "metadata": {
        "id": "view-in-github",
        "colab_type": "text"
      },
      "source": [
        "<a href=\"https://colab.research.google.com/github/Ananyaaaa23/ml/blob/main/mlassignment1.ipynb\" target=\"_parent\"><img src=\"https://colab.research.google.com/assets/colab-badge.svg\" alt=\"Open In Colab\"/></a>"
      ]
    },
    {
      "cell_type": "code",
      "execution_count": null,
      "metadata": {
        "colab": {
          "base_uri": "https://localhost:8080/"
        },
        "id": "J2u9loQG_40Y",
        "outputId": "2bdbcbd5-34eb-4a48-fb60-fd57173cad28"
      },
      "outputs": [
        {
          "output_type": "stream",
          "name": "stdout",
          "text": [
            "[5 4 6 3 2 1]\n"
          ]
        }
      ],
      "source": [
        "import numpy as np\n",
        "arr = np.array([1, 2, 3, 6, 4, 5])\n",
        "reversed_arr = arr[::-1]\n",
        "print(reversed_arr)\n"
      ]
    },
    {
      "cell_type": "code",
      "source": [
        "import numpy as np\n",
        "array1 = np.array([[1, 2, 3], [2, 4, 5], [1, 2, 3]])\n",
        "flattened_array1 = array1.flatten()\n",
        "print(flattened_array1)\n"
      ],
      "metadata": {
        "colab": {
          "base_uri": "https://localhost:8080/"
        },
        "id": "iaKE7YM-AaQJ",
        "outputId": "a1b8989e-b7cc-494c-a737-78b7a308fdd3"
      },
      "execution_count": null,
      "outputs": [
        {
          "output_type": "stream",
          "name": "stdout",
          "text": [
            "[1 2 3 2 4 5 1 2 3]\n"
          ]
        }
      ]
    },
    {
      "cell_type": "code",
      "source": [
        "import numpy as np\n",
        "array1 = np.array([[1, 2, 3], [2, 4, 5], [1, 2, 3]])\n",
        "flattened_array = array1.ravel()\n",
        "print(flattened_array)\n"
      ],
      "metadata": {
        "colab": {
          "base_uri": "https://localhost:8080/"
        },
        "id": "cWx5XHBcBEqg",
        "outputId": "adbc1bc6-17b9-4c08-fbd6-e97a4073e85e"
      },
      "execution_count": null,
      "outputs": [
        {
          "output_type": "stream",
          "name": "stdout",
          "text": [
            "[1 2 3 2 4 5 1 2 3]\n"
          ]
        }
      ]
    },
    {
      "cell_type": "code",
      "source": [
        "import numpy as np\n",
        "\n",
        "arr1 = np.array([[1, 2], [3, 4]])\n",
        "arr2 = np.array([[1, 2], [3, 4]])\n",
        "\n",
        "elementwise_comparison = arr1 == arr2\n",
        "print(elementwise_comparison)\n"
      ],
      "metadata": {
        "colab": {
          "base_uri": "https://localhost:8080/"
        },
        "id": "o8cb1-3wB7QP",
        "outputId": "e6210f09-7eca-4872-c96f-e154c7eb80b3"
      },
      "execution_count": null,
      "outputs": [
        {
          "output_type": "stream",
          "name": "stdout",
          "text": [
            "[[ True  True]\n",
            " [ True  True]]\n"
          ]
        }
      ]
    },
    {
      "cell_type": "code",
      "source": [
        "import numpy as np\n",
        "\n",
        "arr1 = np.array([[1, 2], [3, 4]])\n",
        "arr2 = np.array([[1, 2], [3, 4]])\n",
        "\n",
        "same_object = arr1 is arr2\n",
        "print(same_object)\n"
      ],
      "metadata": {
        "colab": {
          "base_uri": "https://localhost:8080/"
        },
        "id": "1_XBZx93C0g7",
        "outputId": "ff3291b4-18fe-49d0-d6d3-a76296781726"
      },
      "execution_count": null,
      "outputs": [
        {
          "output_type": "stream",
          "name": "stdout",
          "text": [
            "False\n"
          ]
        }
      ]
    },
    {
      "cell_type": "code",
      "source": [
        "import numpy as np\n",
        "x = np.array([1, 2, 3, 4, 5, 1, 2, 1, 1, 1])\n",
        "counts = np.bincount(x)\n",
        "most_frequent_value = np.argmax(counts)\n",
        "indices = np.where(x == most_frequent_value)[0]\n",
        "print(\"Most frequent value in x:\", most_frequent_value)\n",
        "print(\"Indices of the most frequent value in x:\", indices)\n"
      ],
      "metadata": {
        "colab": {
          "base_uri": "https://localhost:8080/"
        },
        "id": "JwbjOx6bC_sv",
        "outputId": "6b587ee5-3250-4fea-df63-b310684bf226"
      },
      "execution_count": null,
      "outputs": [
        {
          "output_type": "stream",
          "name": "stdout",
          "text": [
            "Most frequent value in x: 1\n",
            "Indices of the most frequent value in x: [0 5 7 8 9]\n"
          ]
        }
      ]
    },
    {
      "cell_type": "code",
      "source": [
        "import numpy as np\n",
        "y = np.array([1, 1, 1, 2, 3, 4, 2, 4, 3, 3])\n",
        "counts = np.bincount(y)\n",
        "most_frequent_value = np.argmax(counts)\n",
        "indices = np.where(y == most_frequent_value)[0]\n",
        "print(\"Most frequent value in y:\", most_frequent_value)\n",
        "print(\"Indices of the most frequent value in y:\", indices)"
      ],
      "metadata": {
        "colab": {
          "base_uri": "https://localhost:8080/"
        },
        "id": "u_ZK1p5aEMnG",
        "outputId": "2a1aafc8-514d-4cb1-cb6f-bd5c82a6178e"
      },
      "execution_count": null,
      "outputs": [
        {
          "output_type": "stream",
          "name": "stdout",
          "text": [
            "Most frequent value in y: 1\n",
            "Indices of the most frequent value in y: [0 1 2]\n"
          ]
        }
      ]
    },
    {
      "cell_type": "code",
      "source": [
        "import numpy as np\n",
        "gfg = np.matrix('[4, 1, 9; 12, 3, 1; 4, 5, 6]')\n",
        "total_sum = np.sum(gfg)\n",
        "print(\"Sum of all elements:\", total_sum)\n",
        "row_wise_sum = np.sum(gfg, axis=1)\n",
        "print(\"Sum of elements row-wise:\", row_wise_sum)\n",
        "column_wise_sum = np.sum(gfg, axis=0)\n",
        "print(\"Sum of elements column-wise:\", column_wise_sum)"
      ],
      "metadata": {
        "colab": {
          "base_uri": "https://localhost:8080/"
        },
        "id": "sIr904GCE2HW",
        "outputId": "a549f68f-7244-4895-b7ee-50a7b3d15a29"
      },
      "execution_count": null,
      "outputs": [
        {
          "output_type": "stream",
          "name": "stdout",
          "text": [
            "Sum of all elements: 45\n",
            "Sum of elements row-wise: [[14]\n",
            " [16]\n",
            " [15]]\n",
            "Sum of elements column-wise: [[20  9 16]]\n"
          ]
        }
      ]
    },
    {
      "cell_type": "code",
      "source": [
        "import numpy as np\n",
        "n_array = np.array([[55, 25, 15], [30, 44, 2], [11, 45, 77]])\n",
        "diagonal_sum = np.trace(n_array)\n",
        "print(\"Sum of diagonal elements:\", diagonal_sum)\n",
        "eigenvalues, _ = np.linalg.eig(n_array)\n",
        "print(\"Eigenvalues of the matrix:\", eigenvalues)\n",
        "_, eigenvectors = np.linalg.eig(n_array)\n",
        "print(\"Eigenvectors of the matrix:\\n\", eigenvectors)\n",
        "inverse_matrix= np.linalg.inv(n_array)\n",
        "print(\"Inverse of the matrix:\\n\", inverse_matrix)"
      ],
      "metadata": {
        "colab": {
          "base_uri": "https://localhost:8080/"
        },
        "id": "OZzGCD3cGpH-",
        "outputId": "d61f21b6-9a55-46c5-93cb-d7b49c068b53"
      },
      "execution_count": null,
      "outputs": [
        {
          "output_type": "stream",
          "name": "stdout",
          "text": [
            "Sum of diagonal elements: 176\n",
            "Eigenvalues of the matrix: [98.16835147 28.097044   49.73460452]\n",
            "Eigenvectors of the matrix:\n",
            " [[ 0.4574917   0.34637121 -0.15017693]\n",
            " [ 0.28447814 -0.72784061 -0.4852124 ]\n",
            " [ 0.84248058  0.59184038  0.8614034 ]]\n",
            "Inverse of the matrix:\n",
            " [[ 0.02404141 -0.00911212 -0.00444671]\n",
            " [-0.01667882  0.02966905  0.0024785 ]\n",
            " [ 0.00631287 -0.01603732  0.01217379]]\n"
          ]
        }
      ]
    },
    {
      "cell_type": "code",
      "source": [
        "import numpy as np\n",
        "p = np.array([[1, 2], [2, 3]])\n",
        "q = np.array([[4, 5], [6, 7]])\n",
        "result_i = np.dot(p, q)\n",
        "print(\"Matrix Multiplication Result (i):\")\n",
        "print(result_i)\n",
        "p = np.array([[1, 2], [2, 3], [4, 5]])\n",
        "q = np.array([[4, 5, 1], [6, 7, 2]])\n",
        "result_ii = np.dot(p, q)\n",
        "print(\"Matrix Multiplication Result (ii):\")\n",
        "print(result_ii)\n",
        "p_flat = p.flatten()\n",
        "q_flat = q.flatten()\n",
        "data = np.vstack((p_flat, q_flat))\n",
        "cov_matrix = np.cov(data, bias=True)\n",
        "print(\"Covariance Matrix (i):\")\n",
        "print(cov_matrix)\n",
        "p_flat = p.flatten()\n",
        "q_flat = q.flatten()\n",
        "data = np.vstack((p_flat, q_flat))\n",
        "cov_matrix = np.cov(data, bias=True)\n",
        "print(\"Covariance Matrix (ii):\")\n",
        "print(cov_matrix)\n"
      ],
      "metadata": {
        "id": "WjBvRzHnKipP",
        "colab": {
          "base_uri": "https://localhost:8080/"
        },
        "outputId": "686d3e84-4e4f-4c00-a072-f1b383a33015"
      },
      "execution_count": null,
      "outputs": [
        {
          "output_type": "stream",
          "name": "stdout",
          "text": [
            "Matrix Multiplication Result (i):\n",
            "[[16 19]\n",
            " [26 31]]\n",
            "Matrix Multiplication Result (ii):\n",
            "[[16 19  5]\n",
            " [26 31  8]\n",
            " [46 55 14]]\n",
            "Covariance Matrix (i):\n",
            "[[1.80555556 0.19444444]\n",
            " [0.19444444 4.47222222]]\n",
            "Covariance Matrix (ii):\n",
            "[[1.80555556 0.19444444]\n",
            " [0.19444444 4.47222222]]\n"
          ]
        }
      ]
    },
    {
      "cell_type": "code",
      "source": [
        "import numpy as np\n",
        "x = np.array([[2, 3, 4], [3, 2, 9]])\n",
        "y = np.array([[1, 5, 0], [5, 10, 3]])\n",
        "x_flat = x.flatten()\n",
        "y_flat = y.flatten()\n",
        "inner_product = np.dot(x_flat, y_flat)\n",
        "outer_product = np.outer(x_flat, y_flat)\n",
        "xx, yy = np.meshgrid(x_flat, y_flat, indexing='ij')\n",
        "cartesian_product = np.stack([xx, yy], axis=-1)\n",
        "print(\"Inner Product:\")\n",
        "print(inner_product)\n",
        "print(\"\\nOuter Product:\")\n",
        "print(outer_product)\n",
        "print(\"\\nCartesian Product:\")\n",
        "print(cartesian_product)\n"
      ],
      "metadata": {
        "colab": {
          "base_uri": "https://localhost:8080/"
        },
        "id": "vXRIeF0f8_1k",
        "outputId": "0572d61e-de77-41f7-da90-ed1ff32bf996"
      },
      "execution_count": null,
      "outputs": [
        {
          "output_type": "stream",
          "name": "stdout",
          "text": [
            "Inner Product:\n",
            "79\n",
            "\n",
            "Outer Product:\n",
            "[[ 2 10  0 10 20  6]\n",
            " [ 3 15  0 15 30  9]\n",
            " [ 4 20  0 20 40 12]\n",
            " [ 3 15  0 15 30  9]\n",
            " [ 2 10  0 10 20  6]\n",
            " [ 9 45  0 45 90 27]]\n",
            "\n",
            "Cartesian Product:\n",
            "[[[ 2  1]\n",
            "  [ 2  5]\n",
            "  [ 2  0]\n",
            "  [ 2  5]\n",
            "  [ 2 10]\n",
            "  [ 2  3]]\n",
            "\n",
            " [[ 3  1]\n",
            "  [ 3  5]\n",
            "  [ 3  0]\n",
            "  [ 3  5]\n",
            "  [ 3 10]\n",
            "  [ 3  3]]\n",
            "\n",
            " [[ 4  1]\n",
            "  [ 4  5]\n",
            "  [ 4  0]\n",
            "  [ 4  5]\n",
            "  [ 4 10]\n",
            "  [ 4  3]]\n",
            "\n",
            " [[ 3  1]\n",
            "  [ 3  5]\n",
            "  [ 3  0]\n",
            "  [ 3  5]\n",
            "  [ 3 10]\n",
            "  [ 3  3]]\n",
            "\n",
            " [[ 2  1]\n",
            "  [ 2  5]\n",
            "  [ 2  0]\n",
            "  [ 2  5]\n",
            "  [ 2 10]\n",
            "  [ 2  3]]\n",
            "\n",
            " [[ 9  1]\n",
            "  [ 9  5]\n",
            "  [ 9  0]\n",
            "  [ 9  5]\n",
            "  [ 9 10]\n",
            "  [ 9  3]]]\n"
          ]
        }
      ]
    },
    {
      "cell_type": "code",
      "source": [
        "import numpy as np\n",
        "array = np.array([[1, -2, 3], [-4, 5, -6]])\n",
        "absolute_values = np.abs(array)\n",
        "print(\"Element-wise Absolute Value:\")\n",
        "print(absolute_values)\n",
        "flattened_array = array.flatten()\n",
        "percentiles_flattened = np.percentile(flattened_array, [25, 50, 75])\n",
        "percentiles_column = np.percentile(array, [25, 50, 75], axis=0)\n",
        "percentiles_row = np.percentile(array, [25, 50, 75], axis=1)\n",
        "print(\"\\n25th, 50th, and 75th Percentiles (Flattened):\")\n",
        "print(percentiles_flattened)\n",
        "print(\"\\n25th, 50th, and 75th Percentiles (Each Column):\")\n",
        "print(percentiles_column)\n",
        "print(\"\\n25th, 50th, and 75th Percentiles (Each Row):\")\n",
        "print(percentiles_row)\n",
        "mean_flattened = np.mean(flattened_array)\n",
        "median_flattened = np.median(flattened_array)\n",
        "std_flattened = np.std(flattened_array)\n",
        "mean_column = np.mean(array, axis=0)\n",
        "median_column = np.median(array, axis=0)\n",
        "std_column = np.std(array, axis=0)\n",
        "mean_row = np.mean(array, axis=1)\n",
        "median_row = np.median(array, axis=1)\n",
        "std_row = np.std(array, axis=1)\n",
        "print(\"\\nMean, Median, and Standard Deviation (Flattened):\")\n",
        "print(f\"Mean: {mean_flattened}\")\n",
        "print(f\"Median: {median_flattened}\")\n",
        "print(f\"Standard Deviation: {std_flattened}\")\n",
        "print(\"\\nMean, Median, and Standard Deviation (Each Column):\")\n",
        "print(f\"Mean: {mean_column}\")\n",
        "print(f\"Median: {median_column}\")\n",
        "print(f\"Standard Deviation: {std_column}\")\n",
        "print(\"\\nMean, Median, and Standard Deviation (Each Row):\")\n",
        "print(f\"Mean: {mean_row}\")\n",
        "print(f\"Median: {median_row}\")\n",
        "print(f\"Standard Deviation: {std_row}\")\n",
        "a = np.array([-1.8, -1.6, -0.5, 0.5, 1.6, 1.8, 3.0])\n",
        "floor_values = np.floor(a)\n",
        "ceiling_values = np.ceil(a)\n",
        "truncated_values = np.trunc(a)\n",
        "rounded_values = np.round(a)\n",
        "print(\"\\nFloor Values:\")\n",
        "print(floor_values)\n",
        "print(\"\\nCeiling Values:\")\n",
        "print(ceiling_values)\n",
        "print(\"\\nTruncated Values:\")\n",
        "print(truncated_values)\n",
        "print(\"\\nRounded Values:\")\n",
        "print(rounded_values)\n"
      ],
      "metadata": {
        "colab": {
          "base_uri": "https://localhost:8080/"
        },
        "id": "BoGdXXrR9Li6",
        "outputId": "0adbb5a3-0b0f-490e-cf04-2f2f25bc75c0"
      },
      "execution_count": null,
      "outputs": [
        {
          "output_type": "stream",
          "name": "stdout",
          "text": [
            "Element-wise Absolute Value:\n",
            "[[1 2 3]\n",
            " [4 5 6]]\n",
            "\n",
            "25th, 50th, and 75th Percentiles (Flattened):\n",
            "[-3.5 -0.5  2.5]\n",
            "\n",
            "25th, 50th, and 75th Percentiles (Each Column):\n",
            "[[-2.75 -0.25 -3.75]\n",
            " [-1.5   1.5  -1.5 ]\n",
            " [-0.25  3.25  0.75]]\n",
            "\n",
            "25th, 50th, and 75th Percentiles (Each Row):\n",
            "[[-0.5 -5. ]\n",
            " [ 1.  -4. ]\n",
            " [ 2.   0.5]]\n",
            "\n",
            "Mean, Median, and Standard Deviation (Flattened):\n",
            "Mean: -0.5\n",
            "Median: -0.5\n",
            "Standard Deviation: 3.8622100754188224\n",
            "\n",
            "Mean, Median, and Standard Deviation (Each Column):\n",
            "Mean: [-1.5  1.5 -1.5]\n",
            "Median: [-1.5  1.5 -1.5]\n",
            "Standard Deviation: [2.5 3.5 4.5]\n",
            "\n",
            "Mean, Median, and Standard Deviation (Each Row):\n",
            "Mean: [ 0.66666667 -1.66666667]\n",
            "Median: [ 1. -4.]\n",
            "Standard Deviation: [2.05480467 4.78423336]\n",
            "\n",
            "Floor Values:\n",
            "[-2. -2. -1.  0.  1.  1.  3.]\n",
            "\n",
            "Ceiling Values:\n",
            "[-1. -1. -0.  1.  2.  2.  3.]\n",
            "\n",
            "Truncated Values:\n",
            "[-1. -1. -0.  0.  1.  1.  3.]\n",
            "\n",
            "Rounded Values:\n",
            "[-2. -2. -0.  0.  2.  2.  3.]\n"
          ]
        }
      ]
    },
    {
      "cell_type": "code",
      "source": [
        "import numpy as np\n",
        "array = np.array([10, 52, 62, 16, 16, 54, 453])\n",
        "sorted_array = np.sort(array)\n",
        "print(\"Sorted Array:\")\n",
        "print(sorted_array)\n",
        "indices_sorted = np.argsort(array)\n",
        "print(\"\\nIndices of Sorted Array:\")\n",
        "print(indices_sorted)\n",
        "four_smallest = np.partition(array, 4)[:4]\n",
        "print(\"\\n4 Smallest Elements:\")\n",
        "print(np.sort(four_smallest))\n",
        "five_largest = np.partition(array, -5)[-5:]\n",
        "print(\"\\n5 Largest Elements:\")\n",
        "print(np.sort(five_largest))\n",
        "array = np.array([1.0, 1.2, 2.2, 2.0, 3.0, 2.0])\n",
        "integer_elements = array[array.astype(int) == array]\n",
        "print(\"\\nInteger Elements Only:\")\n",
        "print(integer_elements)\n",
        "float_elements = array[array.astype(int) != array]\n",
        "print(\"\\nFloat Elements Only:\")\n",
        "print(float_elements)\n"
      ],
      "metadata": {
        "colab": {
          "base_uri": "https://localhost:8080/"
        },
        "id": "nSkGRsAY9kiS",
        "outputId": "324f1f8f-8347-4603-b37c-19b67e4375be"
      },
      "execution_count": null,
      "outputs": [
        {
          "output_type": "stream",
          "name": "stdout",
          "text": [
            "Sorted Array:\n",
            "[ 10  16  16  52  54  62 453]\n",
            "\n",
            "Indices of Sorted Array:\n",
            "[0 3 4 1 5 2 6]\n",
            "\n",
            "4 Smallest Elements:\n",
            "[10 16 16 52]\n",
            "\n",
            "5 Largest Elements:\n",
            "[ 16  52  54  62 453]\n",
            "\n",
            "Integer Elements Only:\n",
            "[1. 2. 3. 2.]\n",
            "\n",
            "Float Elements Only:\n",
            "[1.2 2.2]\n"
          ]
        }
      ]
    },
    {
      "cell_type": "code",
      "source": [
        "pip install numpy matplotlib pillow\n"
      ],
      "metadata": {
        "colab": {
          "base_uri": "https://localhost:8080/"
        },
        "id": "vnfpJAfApK1k",
        "outputId": "b9188591-d363-4125-e3fc-d82ccae951a9"
      },
      "execution_count": null,
      "outputs": [
        {
          "output_type": "stream",
          "name": "stdout",
          "text": [
            "Requirement already satisfied: numpy in /usr/local/lib/python3.10/dist-packages (1.26.4)\n",
            "Requirement already satisfied: matplotlib in /usr/local/lib/python3.10/dist-packages (3.7.1)\n",
            "Requirement already satisfied: pillow in /usr/local/lib/python3.10/dist-packages (9.4.0)\n",
            "Requirement already satisfied: contourpy>=1.0.1 in /usr/local/lib/python3.10/dist-packages (from matplotlib) (1.2.1)\n",
            "Requirement already satisfied: cycler>=0.10 in /usr/local/lib/python3.10/dist-packages (from matplotlib) (0.12.1)\n",
            "Requirement already satisfied: fonttools>=4.22.0 in /usr/local/lib/python3.10/dist-packages (from matplotlib) (4.53.1)\n",
            "Requirement already satisfied: kiwisolver>=1.0.1 in /usr/local/lib/python3.10/dist-packages (from matplotlib) (1.4.5)\n",
            "Requirement already satisfied: packaging>=20.0 in /usr/local/lib/python3.10/dist-packages (from matplotlib) (24.1)\n",
            "Requirement already satisfied: pyparsing>=2.3.1 in /usr/local/lib/python3.10/dist-packages (from matplotlib) (3.1.2)\n",
            "Requirement already satisfied: python-dateutil>=2.7 in /usr/local/lib/python3.10/dist-packages (from matplotlib) (2.8.2)\n",
            "Requirement already satisfied: six>=1.5 in /usr/local/lib/python3.10/dist-packages (from python-dateutil>=2.7->matplotlib) (1.16.0)\n"
          ]
        }
      ]
    },
    {
      "cell_type": "code",
      "source": [
        "from PIL import Image\n",
        "import numpy as np\n",
        "def img_to_array(path):\n",
        "    img = Image.open(path)\n",
        "    img_array = np.array(img)\n",
        "    if img.mode == 'RGB':\n",
        "        filename = path.rsplit('.', 1)[0] + '_rgb.txt'\n",
        "        np.savetxt(filename, img_array.reshape(-1, 3), fmt='%d', delimiter=',')\n",
        "    elif img.mode == 'L':\n",
        "        filename = path.rsplit('.', 1)[0] + '_gray.txt'\n",
        "        np.savetxt(filename, img_array.reshape(-1), fmt='%d', delimiter=',')\n",
        "    else:\n",
        "        raise ValueError(\"Unsupported image mode: {}\".format(img.mode))\n",
        "    print(f\"Image data saved to {filename}\")"
      ],
      "metadata": {
        "id": "dFcu_fJGp0qa"
      },
      "execution_count": null,
      "outputs": []
    },
    {
      "cell_type": "code",
      "source": [
        "import numpy as np\n",
        "import matplotlib.pyplot as plt\n",
        "\n",
        "def load_and_display_image(filename, is_rgb=True):\n",
        "    data = np.loadtxt(filename, delimiter=',', dtype=int)\n",
        "\n",
        "    if is_rgb:\n",
        "        height = int(np.sqrt(data.shape[0] / 3))\n",
        "        width = data.shape[0] // (3 * height)\n",
        "        img_array = data.reshape((height, width, 3))\n",
        "    else:\n",
        "        side = int(np.sqrt(data.shape[0]))\n",
        "        img_array = data.reshape((side, side))\n",
        "    plt.imshow(img_array, cmap='gray' if not is_rgb else None)\n",
        "    plt.axis('off')\n",
        "    plt.show()"
      ],
      "metadata": {
        "id": "U9htw8PGp5ft"
      },
      "execution_count": null,
      "outputs": []
    }
  ]
}